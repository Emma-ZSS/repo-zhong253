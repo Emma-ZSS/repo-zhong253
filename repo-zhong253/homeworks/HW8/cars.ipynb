{
 "cells": [
  {
   "cell_type": "code",
   "execution_count": 1,
   "metadata": {},
   "outputs": [],
   "source": [
    "# Shanshan Zhong\n",
    "# zhong253\n",
    "# Lab 004"
   ]
  },
  {
   "cell_type": "code",
   "execution_count": 2,
   "metadata": {},
   "outputs": [],
   "source": [
    "# Task 1 - Worksheet 1\n",
    "# Purpose: Write the code that calculates the average miles per gallon (mpg) for \n",
    "#   city driving and the average mpg for highway driving.\n",
    "# Output: A list with two floats will be created. The first float will be the average mpg for\n",
    "#   city driving and the second the average mpg for highway driving. Your list must be the\n",
    "#   final thing displayed."
   ]
  },
  {
   "cell_type": "code",
   "execution_count": 5,
   "metadata": {},
   "outputs": [
    {
     "data": {
      "text/plain": [
       "'%.2f'"
      ]
     },
     "execution_count": 5,
     "metadata": {},
     "output_type": "execute_result"
    }
   ],
   "source": [
    "import csv\n",
    "\n",
    "# set 2 decimals\n",
    "%precision 2"
   ]
  },
  {
   "cell_type": "code",
   "execution_count": 6,
   "metadata": {},
   "outputs": [],
   "source": [
    "with open('cars_mpg.csv')as f: # open file\n",
    "    mpg = list(csv.DictReader(f)) # OrderedDict\n",
    "#mpg"
   ]
  },
  {
   "cell_type": "code",
   "execution_count": 7,
   "metadata": {},
   "outputs": [
    {
     "data": {
      "text/plain": [
       "[16.86, 23.44]"
      ]
     },
     "execution_count": 7,
     "metadata": {},
     "output_type": "execute_result"
    }
   ],
   "source": [
    "a = []\n",
    "a.append(sum(int(d['cty'])for d in mpg)/len(mpg)) # average mpg for city driving\n",
    "a.append(sum(int(d['hwy'])for d in mpg)/len(mpg)) # average mpg for highway driving\n",
    "a # display"
   ]
  },
  {
   "cell_type": "code",
   "execution_count": 8,
   "metadata": {},
   "outputs": [],
   "source": [
    "# Task 2 - Worksheet 1\n",
    "# Purpose: Write the code that shows the different types of manufacturers.\n",
    "# Output: A set with strings will be created. The strings will be the different 'manufacturer's. Your set \n",
    "#   must be the final thing displayed."
   ]
  },
  {
   "cell_type": "code",
   "execution_count": 10,
   "metadata": {},
   "outputs": [
    {
     "data": {
      "text/plain": [
       "{'allude',\n",
       " 'chevron',\n",
       " 'doggie',\n",
       " 'freeway',\n",
       " 'honda',\n",
       " 'hyundai',\n",
       " 'jeep',\n",
       " 'land rover',\n",
       " 'lincoln',\n",
       " 'mercury',\n",
       " 'nissan',\n",
       " 'silver',\n",
       " 'subbie',\n",
       " 'tinker',\n",
       " 'volks'}"
      ]
     },
     "execution_count": 10,
     "metadata": {},
     "output_type": "execute_result"
    }
   ],
   "source": [
    "manu = set(m['manufacturer'] for m in mpg)\n",
    "manu"
   ]
  },
  {
   "cell_type": "code",
   "execution_count": 11,
   "metadata": {},
   "outputs": [],
   "source": [
    "# Task 3 - Worksheet 1\n",
    "# Purpose: Write the code that calculates the average mppg city driving and the average mpg for highway\n",
    "#   driving for each manufacturer.\n",
    "# Output: A list of two lists will be created. \n",
    "#   The first list will be for the city and the second list will be for the highway. Your set \n",
    "#   must be the final thing displayed."
   ]
  },
  {
   "cell_type": "code",
   "execution_count": 12,
   "metadata": {},
   "outputs": [
    {
     "data": {
      "text/plain": [
       "[[('mercury', 13.25),\n",
       "  ('land rover', 11.50),\n",
       "  ('subbie', 19.29),\n",
       "  ('tinker', 18.53),\n",
       "  ('volks', 20.93),\n",
       "  ('doggie', 13.14),\n",
       "  ('hyundai', 18.64),\n",
       "  ('freeway', 14.00),\n",
       "  ('chevron', 15.00),\n",
       "  ('lincoln', 11.33),\n",
       "  ('nissan', 18.08),\n",
       "  ('silver', 17.00),\n",
       "  ('allude', 17.61),\n",
       "  ('jeep', 13.50),\n",
       "  ('honda', 24.44)],\n",
       " [('mercury', 18.00),\n",
       "  ('land rover', 16.50),\n",
       "  ('subbie', 25.57),\n",
       "  ('tinker', 24.91),\n",
       "  ('volks', 29.22),\n",
       "  ('doggie', 17.95),\n",
       "  ('hyundai', 26.86),\n",
       "  ('freeway', 19.36),\n",
       "  ('chevron', 21.89),\n",
       "  ('lincoln', 17.00),\n",
       "  ('nissan', 24.62),\n",
       "  ('silver', 26.40),\n",
       "  ('allude', 26.44),\n",
       "  ('jeep', 17.62),\n",
       "  ('honda', 32.56)]]"
      ]
     },
     "execution_count": 12,
     "metadata": {},
     "output_type": "execute_result"
    }
   ],
   "source": [
    "c1 = []\n",
    "c2 = []\n",
    "for m in manu:\n",
    "    tl_num_of_manu_cty = 0\n",
    "    tl_num_of_manu_hwy = 0\n",
    "    count_manu = 0\n",
    "    \n",
    "    for d in mpg:\n",
    "        if d['manufacturer'] == m:\n",
    "            count_manu += 1\n",
    "            tl_num_of_manu_cty = tl_num_of_manu_cty + float(d['cty'])\n",
    "            tl_num_of_manu_hwy = tl_num_of_manu_hwy + float(d['hwy'])\n",
    "    c1.append((m, tl_num_of_manu_cty/count_manu))\n",
    "    c2.append((m, tl_num_of_manu_hwy/count_manu))\n",
    "c = [c1,c2]  \n",
    "c"
   ]
  },
  {
   "cell_type": "code",
   "execution_count": 13,
   "metadata": {},
   "outputs": [],
   "source": [
    "# Task 4 - Worksheet 1\n",
    "# Purpose: Write the code that sort the two lists by mpg\n",
    "# Output: Each list should be ordered. "
   ]
  },
  {
   "cell_type": "code",
   "execution_count": 14,
   "metadata": {},
   "outputs": [
    {
     "data": {
      "text/plain": [
       "[[('lincoln', 11.33),\n",
       "  ('land rover', 11.50),\n",
       "  ('doggie', 13.14),\n",
       "  ('mercury', 13.25),\n",
       "  ('jeep', 13.50),\n",
       "  ('freeway', 14.00),\n",
       "  ('chevron', 15.00),\n",
       "  ('silver', 17.00),\n",
       "  ('allude', 17.61),\n",
       "  ('nissan', 18.08),\n",
       "  ('tinker', 18.53),\n",
       "  ('hyundai', 18.64),\n",
       "  ('subbie', 19.29),\n",
       "  ('volks', 20.93),\n",
       "  ('honda', 24.44)],\n",
       " [('land rover', 16.50),\n",
       "  ('lincoln', 17.00),\n",
       "  ('jeep', 17.62),\n",
       "  ('doggie', 17.95),\n",
       "  ('mercury', 18.00),\n",
       "  ('freeway', 19.36),\n",
       "  ('chevron', 21.89),\n",
       "  ('nissan', 24.62),\n",
       "  ('tinker', 24.91),\n",
       "  ('subbie', 25.57),\n",
       "  ('silver', 26.40),\n",
       "  ('allude', 26.44),\n",
       "  ('hyundai', 26.86),\n",
       "  ('volks', 29.22),\n",
       "  ('honda', 32.56)]]"
      ]
     },
     "execution_count": 14,
     "metadata": {},
     "output_type": "execute_result"
    }
   ],
   "source": [
    "for ls in c:\n",
    "    ls.sort(key = lambda x:x[1]) # sort by position 1\n",
    "c"
   ]
  },
  {
   "cell_type": "code",
   "execution_count": 15,
   "metadata": {},
   "outputs": [],
   "source": [
    "# Task 5 - Worksheet 1\n",
    "# Purpose: Import the cars_mpg.csv file into a pandas dataframe.\n",
    "# Output: Display the head of the dataframe."
   ]
  },
  {
   "cell_type": "code",
   "execution_count": 16,
   "metadata": {},
   "outputs": [],
   "source": [
    "import pandas as pd\n",
    "from pandas import DataFrame, Series"
   ]
  },
  {
   "cell_type": "code",
   "execution_count": 17,
   "metadata": {},
   "outputs": [
    {
     "data": {
      "text/html": [
       "<div>\n",
       "<style scoped>\n",
       "    .dataframe tbody tr th:only-of-type {\n",
       "        vertical-align: middle;\n",
       "    }\n",
       "\n",
       "    .dataframe tbody tr th {\n",
       "        vertical-align: top;\n",
       "    }\n",
       "\n",
       "    .dataframe thead th {\n",
       "        text-align: right;\n",
       "    }\n",
       "</style>\n",
       "<table border=\"1\" class=\"dataframe\">\n",
       "  <thead>\n",
       "    <tr style=\"text-align: right;\">\n",
       "      <th></th>\n",
       "      <th>manufacturer</th>\n",
       "      <th>model</th>\n",
       "      <th>displ</th>\n",
       "      <th>year</th>\n",
       "      <th>cyl</th>\n",
       "      <th>trans</th>\n",
       "      <th>drv</th>\n",
       "      <th>cty</th>\n",
       "      <th>hwy</th>\n",
       "      <th>fl</th>\n",
       "      <th>class</th>\n",
       "    </tr>\n",
       "  </thead>\n",
       "  <tbody>\n",
       "    <tr>\n",
       "      <th>1</th>\n",
       "      <td>allude</td>\n",
       "      <td>excel</td>\n",
       "      <td>1.8</td>\n",
       "      <td>1999</td>\n",
       "      <td>4</td>\n",
       "      <td>auto(l5)</td>\n",
       "      <td>f</td>\n",
       "      <td>18</td>\n",
       "      <td>29</td>\n",
       "      <td>p</td>\n",
       "      <td>compact</td>\n",
       "    </tr>\n",
       "    <tr>\n",
       "      <th>2</th>\n",
       "      <td>allude</td>\n",
       "      <td>excel</td>\n",
       "      <td>1.8</td>\n",
       "      <td>1999</td>\n",
       "      <td>4</td>\n",
       "      <td>manual(m5)</td>\n",
       "      <td>f</td>\n",
       "      <td>21</td>\n",
       "      <td>29</td>\n",
       "      <td>p</td>\n",
       "      <td>compact</td>\n",
       "    </tr>\n",
       "    <tr>\n",
       "      <th>3</th>\n",
       "      <td>allude</td>\n",
       "      <td>excel</td>\n",
       "      <td>2.0</td>\n",
       "      <td>2008</td>\n",
       "      <td>4</td>\n",
       "      <td>manual(m6)</td>\n",
       "      <td>f</td>\n",
       "      <td>20</td>\n",
       "      <td>31</td>\n",
       "      <td>p</td>\n",
       "      <td>compact</td>\n",
       "    </tr>\n",
       "    <tr>\n",
       "      <th>4</th>\n",
       "      <td>allude</td>\n",
       "      <td>excel</td>\n",
       "      <td>2.0</td>\n",
       "      <td>2008</td>\n",
       "      <td>4</td>\n",
       "      <td>auto(av)</td>\n",
       "      <td>f</td>\n",
       "      <td>21</td>\n",
       "      <td>30</td>\n",
       "      <td>p</td>\n",
       "      <td>compact</td>\n",
       "    </tr>\n",
       "    <tr>\n",
       "      <th>5</th>\n",
       "      <td>allude</td>\n",
       "      <td>excel</td>\n",
       "      <td>2.8</td>\n",
       "      <td>1999</td>\n",
       "      <td>6</td>\n",
       "      <td>auto(l5)</td>\n",
       "      <td>f</td>\n",
       "      <td>16</td>\n",
       "      <td>26</td>\n",
       "      <td>p</td>\n",
       "      <td>compact</td>\n",
       "    </tr>\n",
       "  </tbody>\n",
       "</table>\n",
       "</div>"
      ],
      "text/plain": [
       "  manufacturer  model  displ  year  cyl       trans drv  cty  hwy fl    class\n",
       "1       allude  excel    1.8  1999    4    auto(l5)   f   18   29  p  compact\n",
       "2       allude  excel    1.8  1999    4  manual(m5)   f   21   29  p  compact\n",
       "3       allude  excel    2.0  2008    4  manual(m6)   f   20   31  p  compact\n",
       "4       allude  excel    2.0  2008    4    auto(av)   f   21   30  p  compact\n",
       "5       allude  excel    2.8  1999    6    auto(l5)   f   16   26  p  compact"
      ]
     },
     "execution_count": 17,
     "metadata": {},
     "output_type": "execute_result"
    }
   ],
   "source": [
    "dataFrame = pd.read_csv('cars_mpg.csv',index_col=0) # remove index column\n",
    "dataFrame.head()"
   ]
  },
  {
   "cell_type": "code",
   "execution_count": 18,
   "metadata": {},
   "outputs": [],
   "source": [
    "# Task 6 - Worksheet 1\n",
    "# Purpose: Write the code that calculates the maximum mpg for both city and highway driving.\n",
    "#   Use dataframes.\n",
    "# Output: Print two maximum values, one for city and one for highway."
   ]
  },
  {
   "cell_type": "code",
   "execution_count": 19,
   "metadata": {},
   "outputs": [
    {
     "data": {
      "text/plain": [
       "35"
      ]
     },
     "execution_count": 19,
     "metadata": {},
     "output_type": "execute_result"
    }
   ],
   "source": [
    "# max city\n",
    "dataFrame['cty'].max()"
   ]
  },
  {
   "cell_type": "code",
   "execution_count": 20,
   "metadata": {},
   "outputs": [
    {
     "data": {
      "text/plain": [
       "44"
      ]
     },
     "execution_count": 20,
     "metadata": {},
     "output_type": "execute_result"
    }
   ],
   "source": [
    "# max highway\n",
    "dataFrame['hwy'].max()"
   ]
  },
  {
   "cell_type": "code",
   "execution_count": 21,
   "metadata": {},
   "outputs": [],
   "source": [
    "# Task 7 - Worksheet 1\n",
    "# Purpose: Write the code that calculates the average mpg for both city and highway driving.\n",
    "# Output: Store the result in a dataframe with the column names being mpg_city and mpg_highway."
   ]
  },
  {
   "cell_type": "code",
   "execution_count": 22,
   "metadata": {},
   "outputs": [
    {
     "data": {
      "text/html": [
       "<div>\n",
       "<style scoped>\n",
       "    .dataframe tbody tr th:only-of-type {\n",
       "        vertical-align: middle;\n",
       "    }\n",
       "\n",
       "    .dataframe tbody tr th {\n",
       "        vertical-align: top;\n",
       "    }\n",
       "\n",
       "    .dataframe thead th {\n",
       "        text-align: right;\n",
       "    }\n",
       "</style>\n",
       "<table border=\"1\" class=\"dataframe\">\n",
       "  <thead>\n",
       "    <tr style=\"text-align: right;\">\n",
       "      <th></th>\n",
       "      <th>mpg_city</th>\n",
       "      <th>mpg_hwy</th>\n",
       "    </tr>\n",
       "  </thead>\n",
       "  <tbody>\n",
       "    <tr>\n",
       "      <th>0</th>\n",
       "      <td>16.858974</td>\n",
       "      <td>23.440171</td>\n",
       "    </tr>\n",
       "  </tbody>\n",
       "</table>\n",
       "</div>"
      ],
      "text/plain": [
       "    mpg_city    mpg_hwy\n",
       "0  16.858974  23.440171"
      ]
     },
     "execution_count": 22,
     "metadata": {},
     "output_type": "execute_result"
    }
   ],
   "source": [
    "data = {'mpg_city':[dataFrame['cty'].mean()],'mpg_hwy':[dataFrame['hwy'].mean()]}\n",
    "df = pd.DataFrame(data)\n",
    "df"
   ]
  },
  {
   "cell_type": "code",
   "execution_count": 23,
   "metadata": {},
   "outputs": [],
   "source": [
    "# Task 8 - Worksheet 1\n",
    "# Purpose: Plot the mpg for highway driving\n",
    "# Output: A plot"
   ]
  },
  {
   "cell_type": "code",
   "execution_count": 24,
   "metadata": {},
   "outputs": [],
   "source": [
    "# To embed images\n",
    "%matplotlib inline"
   ]
  },
  {
   "cell_type": "code",
   "execution_count": 25,
   "metadata": {},
   "outputs": [
    {
     "data": {
      "image/png": "[encoded data removed]",
      "text/plain": [
       "<Figure size 1296x1152 with 1 Axes>"
      ]
     },
     "metadata": {
      "needs_background": "light"
     },
     "output_type": "display_data"
    }
   ],
   "source": [
    "# Bar\n",
    "plot = dataFrame['hwy'].plot(kind = 'bar',title='mpg for highway driving',figsize=(18, 16))\n",
    "plot = plot.set(xlabel = \"Cars\", ylabel = \"mpg\")"
   ]
  },
  {
   "cell_type": "code",
   "execution_count": null,
   "metadata": {},
   "outputs": [],
   "source": []
  }
 ],
 "metadata": {
  "kernelspec": {
   "display_name": "Python 3",
   "language": "python",
   "name": "python3"
  },
  "language_info": {
   "codemirror_mode": {
    "name": "ipython",
    "version": 3
   },
   "file_extension": ".py",
   "mimetype": "text/x-python",
   "name": "python",
   "nbconvert_exporter": "python",
   "pygments_lexer": "ipython3",
   "version": "3.7.1"
  }
 },
 "nbformat": 4,
 "nbformat_minor": 2
}
